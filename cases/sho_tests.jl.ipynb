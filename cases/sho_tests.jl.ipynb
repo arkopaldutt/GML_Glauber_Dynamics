{
 "cells": [
  {
   "cell_type": "code",
   "execution_count": 1,
   "metadata": {},
   "outputs": [
    {
     "data": {
      "text/plain": [
       "3-element Array{Any,1}:\n",
       " \"/Applications/Julia-0.6.app/Contents/Resources/julia/local/share/julia/site/v0.6\"\n",
       " \"/Applications/Julia-0.6.app/Contents/Resources/julia/share/julia/site/v0.6\"      \n",
       " \"../src/\"                                                                         "
      ]
     },
     "execution_count": 1,
     "metadata": {},
     "output_type": "execute_result"
    }
   ],
   "source": [
    "# Add locations of modules\n",
    "push!(LOAD_PATH, \"../src/\")"
   ]
  },
  {
   "cell_type": "code",
   "execution_count": 2,
   "metadata": {},
   "outputs": [
    {
     "name": "stderr",
     "output_type": "stream",
     "text": [
      "\u001b[1m\u001b[36mINFO: \u001b[39m\u001b[22m\u001b[36mRecompiling stale cache file /Users/gogol/.julia/lib/v0.6/GraphicalModelLearning.ji for module GraphicalModelLearning.\n",
      "\u001b[39m\n",
      "WARNING: deprecated syntax \"inner constructor FactorGraph(...) around /Users/gogol/Dropbox (Personal)/Research/LANL/Code/GraphicalModelLearning/src/models.jl:13\".\n",
      "Use \"FactorGraph{T}(...) where T\" instead.\n"
     ]
    },
    {
     "data": {
      "text/plain": [
       "get_M_opt_glauber_dynamics (generic function with 5 methods)"
      ]
     },
     "execution_count": 2,
     "metadata": {},
     "output_type": "execute_result"
    }
   ],
   "source": [
    "using GraphicalModelLearning\n",
    "using LightGraphs\n",
    "using Cairo\n",
    "using Junet\n",
    "\n",
    "include(\"beta_scaling.jl\")"
   ]
  },
  {
   "cell_type": "markdown",
   "metadata": {},
   "source": [
    "### Experiments for Spin History Only case"
   ]
  },
  {
   "cell_type": "markdown",
   "metadata": {},
   "source": [
    "#### Create the dictionary over samples"
   ]
  },
  {
   "cell_type": "code",
   "execution_count": 3,
   "metadata": {},
   "outputs": [
    {
     "name": "stderr",
     "output_type": "stream",
     "text": [
      "\u001b[1m\u001b[36mINFO: \u001b[39m\u001b[22m\u001b[36massuming spin alphabet\n",
      "\u001b[39m\u001b[1m\u001b[36mINFO: \u001b[39m\u001b[22m\u001b[36musing Glauber dynamics v1 to generate T-regime samples\n",
      "\u001b[39m"
     ]
    },
    {
     "name": "stdout",
     "output_type": "stream",
     "text": [
      "done"
     ]
    }
   ],
   "source": [
    "# Define Graphical Model\n",
    "model = FactorGraph([0.0 0.9 0.1; 0.9 0.0 0.1; 0.1 0.1 0.0])\n",
    "\n",
    "n_samples = 100000\n",
    "\n",
    "# Gibbs Samples\n",
    "samples_T, samples_mixed = gibbs_sampling(model, n_samples, T_regime())\n",
    "print(\"done\")"
   ]
  },
  {
   "cell_type": "code",
   "execution_count": 5,
   "metadata": {},
   "outputs": [
    {
     "data": {
      "text/plain": [
       "48×8 Array{Int64,2}:\n",
       "  962  1   1  -1   1  -1  -1   1\n",
       " 1038  2   1   1  -1   1  -1  -1\n",
       "  616  3   1  -1   1   1  -1   1\n",
       "  973  2  -1  -1   1  -1   1   1\n",
       " 1001  1   1   1   1  -1   1   1\n",
       "  164  1   1  -1   1   1  -1   1\n",
       " 3383  3  -1  -1   1  -1  -1  -1\n",
       "  996  1  -1  -1   1   1  -1   1\n",
       " 7688  1  -1  -1  -1  -1  -1  -1\n",
       " 3415  3   1   1  -1   1   1   1\n",
       "  583  3  -1   1   1  -1   1   1\n",
       "  939  1   1   1  -1  -1   1  -1\n",
       " 7374  1   1   1   1   1   1   1\n",
       "    ⋮                  ⋮        \n",
       " 2359  3   1   1  -1   1   1  -1\n",
       "  128  1  -1   1   1  -1   1   1\n",
       "  951  1  -1   1  -1   1   1  -1\n",
       " 2229  3  -1  -1   1  -1  -1   1\n",
       "  590  3  -1   1  -1  -1   1   1\n",
       " 1004  1  -1  -1  -1   1  -1  -1\n",
       "  206  1  -1   1  -1  -1   1  -1\n",
       "  994  1  -1   1   1   1   1   1\n",
       "  953  2  -1   1   1  -1  -1   1\n",
       " 1019  2   1  -1  -1   1   1  -1\n",
       "  580  3   1  -1  -1   1  -1   1\n",
       "  145  1   1  -1  -1   1  -1  -1"
      ]
     },
     "execution_count": 5,
     "metadata": {},
     "output_type": "execute_result"
    }
   ],
   "source": [
    "samples_T"
   ]
  },
  {
   "cell_type": "code",
   "execution_count": 6,
   "metadata": {},
   "outputs": [
    {
     "ename": "LoadError",
     "evalue": "\u001b[91mDimensionMismatch(\"tried to assign 0-element array to 1×8 destination\")\u001b[39m",
     "output_type": "error",
     "traceback": [
      "\u001b[91mDimensionMismatch(\"tried to assign 0-element array to 1×8 destination\")\u001b[39m",
      "",
      "Stacktrace:",
      " [1] \u001b[1mthrow_setindex_mismatch\u001b[22m\u001b[22m\u001b[1m(\u001b[22m\u001b[22m::Array{Any,1}, ::Tuple{Int64,Int64}\u001b[1m)\u001b[22m\u001b[22m at \u001b[1m./indices.jl:94\u001b[22m\u001b[22m",
      " [2] \u001b[1msetindex_shape_check\u001b[22m\u001b[22m\u001b[1m(\u001b[22m\u001b[22m::Array{Any,1}, ::Int64, ::Int64\u001b[1m)\u001b[22m\u001b[22m at \u001b[1m./indices.jl:146\u001b[22m\u001b[22m",
      " [3] \u001b[1mmacro expansion\u001b[22m\u001b[22m at \u001b[1m./multidimensional.jl:554\u001b[22m\u001b[22m [inlined]",
      " [4] \u001b[1m_unsafe_setindex!\u001b[22m\u001b[22m\u001b[1m(\u001b[22m\u001b[22m::IndexLinear, ::Array{Int64,2}, ::Array{Any,1}, ::Int64, ::Base.Slice{Base.OneTo{Int64}}\u001b[1m)\u001b[22m\u001b[22m at \u001b[1m./multidimensional.jl:549\u001b[22m\u001b[22m",
      " [5] \u001b[1mmacro expansion\u001b[22m\u001b[22m at \u001b[1m./multidimensional.jl:541\u001b[22m\u001b[22m [inlined]",
      " [6] \u001b[1m_setindex!\u001b[22m\u001b[22m at \u001b[1m./multidimensional.jl:537\u001b[22m\u001b[22m [inlined]",
      " [7] \u001b[1msetindex!\u001b[22m\u001b[22m\u001b[1m(\u001b[22m\u001b[22m::Array{Int64,2}, ::Array{Any,1}, ::Int64, ::Colon\u001b[1m)\u001b[22m\u001b[22m at \u001b[1m./abstractarray.jl:968\u001b[22m\u001b[22m"
     ]
    }
   ],
   "source": [
    "samples_T2 = copy(samples_T)\n",
    "samples_T2[48,:] = []"
   ]
  },
  {
   "cell_type": "code",
   "execution_count": 8,
   "metadata": {},
   "outputs": [
    {
     "data": {
      "text/plain": [
       "24×8 Array{Int64,2}:\n",
       "  616  3   1  -1   1   1  -1   1\n",
       "  164  1   1  -1   1   1  -1   1\n",
       " 7688  1  -1  -1  -1  -1  -1  -1\n",
       "  583  3  -1   1   1  -1   1   1\n",
       " 7374  1   1   1   1   1   1   1\n",
       " 4890  2  -1  -1   1  -1  -1   1\n",
       "  154  2   1  -1   1   1  -1   1\n",
       "  115  2  -1   1  -1  -1   1  -1\n",
       " 5176  3  -1  -1  -1  -1  -1  -1\n",
       " 7503  2   1   1   1   1   1   1\n",
       " 7756  2  -1  -1  -1  -1  -1  -1\n",
       "  599  3   1  -1  -1   1  -1  -1\n",
       " 4791  1  -1  -1   1  -1  -1   1\n",
       " 5044  3   1   1   1   1   1   1\n",
       " 4801  2   1   1  -1   1   1  -1\n",
       "  186  2   1  -1  -1   1  -1  -1\n",
       "  537  3  -1   1  -1  -1   1  -1\n",
       "  199  2  -1   1   1  -1   1   1\n",
       " 4722  1   1   1  -1   1   1  -1\n",
       " 2359  3   1   1  -1   1   1  -1\n",
       "  128  1  -1   1   1  -1   1   1\n",
       " 2229  3  -1  -1   1  -1  -1   1\n",
       "  206  1  -1   1  -1  -1   1  -1\n",
       "  145  1   1  -1  -1   1  -1  -1"
      ]
     },
     "execution_count": 8,
     "metadata": {},
     "output_type": "execute_result"
    }
   ],
   "source": [
    "# Create a dictionary over samples_T\n",
    "dict_samples_sho = Dict{UInt8, Array{Int64, 2}}()\n",
    "num_spins = 3\n",
    "\n",
    "# Node number is the key of the dictionary\n",
    "# Should include those which are flips and those which are not\n",
    "# For the cases where there are flips, we know node i is being updated because this is single-site dynamics and we see a change\n",
    "# Where there are no flips, we don't know which node is being updated so include all possibilities \n",
    "\n",
    "# For each dict[key], array should be of form (n_samples, FLAG_flip, \\sigma^{(t)}, \\sigma^{(t+1)})\n",
    "\n",
    "# First get all those samples where there is no flip\n",
    "ind_samples_T_no_flip = []\n",
    "ind_samples_T_flip = []\n",
    "\n",
    "for ind_config = 1:size(samples_T,1)\n",
    "    if dot(samples_T[ind_config,3:(2+num_spins)],samples_T[ind_config,(3+num_spins):end]) == num_spins\n",
    "        push!(ind_samples_T_no_flip,ind_config)\n",
    "    else\n",
    "        push!(ind_samples_T_flip,ind_config)\n",
    "    end\n",
    "end\n",
    "\n",
    "samples_T_flip = samples_T[ind_samples_T_flip,:]\n",
    "samples_T_no_flip = samples_T[ind_samples_T_no_flip,:]"
   ]
  },
  {
   "cell_type": "code",
   "execution_count": 9,
   "metadata": {},
   "outputs": [
    {
     "data": {
      "text/plain": [
       "24×8 Array{Int64,2}:\n",
       "  962  1   1  -1   1  -1  -1   1\n",
       " 1038  2   1   1  -1   1  -1  -1\n",
       "  973  2  -1  -1   1  -1   1   1\n",
       " 1001  1   1   1   1  -1   1   1\n",
       " 3383  3  -1  -1   1  -1  -1  -1\n",
       "  996  1  -1  -1   1   1  -1   1\n",
       " 3415  3   1   1  -1   1   1   1\n",
       "  939  1   1   1  -1  -1   1  -1\n",
       " 1044  1   1  -1  -1  -1  -1  -1\n",
       " 3437  3  -1  -1  -1  -1  -1   1\n",
       " 1046  2  -1   1  -1  -1  -1  -1\n",
       " 1012  2   1   1   1   1  -1   1\n",
       "  601  3   1  -1   1   1  -1  -1\n",
       " 1026  2   1  -1   1   1   1   1\n",
       "  617  3  -1   1   1  -1   1  -1\n",
       " 1031  2  -1  -1  -1  -1   1  -1\n",
       " 3422  3   1   1   1   1   1  -1\n",
       "  951  1  -1   1  -1   1   1  -1\n",
       "  590  3  -1   1  -1  -1   1   1\n",
       " 1004  1  -1  -1  -1   1  -1  -1\n",
       "  994  1  -1   1   1   1   1   1\n",
       "  953  2  -1   1   1  -1  -1   1\n",
       " 1019  2   1  -1  -1   1   1  -1\n",
       "  580  3   1  -1  -1   1  -1   1"
      ]
     },
     "metadata": {},
     "output_type": "display_data"
    }
   ],
   "source": [
    "display(samples_T_flip)"
   ]
  },
  {
   "cell_type": "code",
   "execution_count": 10,
   "metadata": {},
   "outputs": [
    {
     "data": {
      "text/plain": [
       "24×8 Array{Int64,2}:\n",
       "  616  3   1  -1   1   1  -1   1\n",
       "  164  1   1  -1   1   1  -1   1\n",
       " 7688  1  -1  -1  -1  -1  -1  -1\n",
       "  583  3  -1   1   1  -1   1   1\n",
       " 7374  1   1   1   1   1   1   1\n",
       " 4890  2  -1  -1   1  -1  -1   1\n",
       "  154  2   1  -1   1   1  -1   1\n",
       "  115  2  -1   1  -1  -1   1  -1\n",
       " 5176  3  -1  -1  -1  -1  -1  -1\n",
       " 7503  2   1   1   1   1   1   1\n",
       " 7756  2  -1  -1  -1  -1  -1  -1\n",
       "  599  3   1  -1  -1   1  -1  -1\n",
       " 4791  1  -1  -1   1  -1  -1   1\n",
       " 5044  3   1   1   1   1   1   1\n",
       " 4801  2   1   1  -1   1   1  -1\n",
       "  186  2   1  -1  -1   1  -1  -1\n",
       "  537  3  -1   1  -1  -1   1  -1\n",
       "  199  2  -1   1   1  -1   1   1\n",
       " 4722  1   1   1  -1   1   1  -1\n",
       " 2359  3   1   1  -1   1   1  -1\n",
       "  128  1  -1   1   1  -1   1   1\n",
       " 2229  3  -1  -1   1  -1  -1   1\n",
       "  206  1  -1   1  -1  -1   1  -1\n",
       "  145  1   1  -1  -1   1  -1  -1"
      ]
     },
     "metadata": {},
     "output_type": "display_data"
    }
   ],
   "source": [
    "display(samples_T_no_flip)"
   ]
  },
  {
   "cell_type": "code",
   "execution_count": 13,
   "metadata": {},
   "outputs": [
    {
     "name": "stdout",
     "output_type": "stream",
     "text": [
      "done"
     ]
    }
   ],
   "source": [
    "samples_T_no_flip[:,2] = 0\n",
    "# Now create the dictionary\n",
    "for current_spin = 1:num_spins\n",
    "    samples_current_spin = samples_T_flip[find(isequal(current_spin),samples_T_flip[:,2]),:]\n",
    "    samples_current_spin[:,2] = 1\n",
    "    dict_samples_sho[current_spin] = vcat(samples_current_spin,samples_T_no_flip)\n",
    "end\n",
    "print(\"done\")"
   ]
  },
  {
   "cell_type": "code",
   "execution_count": 14,
   "metadata": {},
   "outputs": [
    {
     "data": {
      "text/plain": [
       "Dict{UInt8,Array{Int64,2}} with 3 entries:\n",
       "  0x02 => [1038 1 … -1 -1; 973 1 … 1 1; … ; 206 0 … 1 -1; 145 0 … -1 -1]\n",
       "  0x03 => [3383 1 … -1 -1; 3415 1 … 1 1; … ; 206 0 … 1 -1; 145 0 … -1 -1]\n",
       "  0x01 => [962 1 … -1 1; 1001 1 … 1 1; … ; 206 0 … 1 -1; 145 0 … -1 -1]"
      ]
     },
     "execution_count": 14,
     "metadata": {},
     "output_type": "execute_result"
    }
   ],
   "source": [
    "dict_samples_sho"
   ]
  },
  {
   "cell_type": "code",
   "execution_count": 15,
   "metadata": {},
   "outputs": [
    {
     "data": {
      "text/plain": [
       "32×8 Array{Int64,2}:\n",
       "  962  1   1  -1   1  -1  -1   1\n",
       " 1001  1   1   1   1  -1   1   1\n",
       "  996  1  -1  -1   1   1  -1   1\n",
       "  939  1   1   1  -1  -1   1  -1\n",
       " 1044  1   1  -1  -1  -1  -1  -1\n",
       "  951  1  -1   1  -1   1   1  -1\n",
       " 1004  1  -1  -1  -1   1  -1  -1\n",
       "  994  1  -1   1   1   1   1   1\n",
       "  616  0   1  -1   1   1  -1   1\n",
       "  164  0   1  -1   1   1  -1   1\n",
       " 7688  0  -1  -1  -1  -1  -1  -1\n",
       "  583  0  -1   1   1  -1   1   1\n",
       " 7374  0   1   1   1   1   1   1\n",
       "    ⋮                  ⋮        \n",
       " 4791  0  -1  -1   1  -1  -1   1\n",
       " 5044  0   1   1   1   1   1   1\n",
       " 4801  0   1   1  -1   1   1  -1\n",
       "  186  0   1  -1  -1   1  -1  -1\n",
       "  537  0  -1   1  -1  -1   1  -1\n",
       "  199  0  -1   1   1  -1   1   1\n",
       " 4722  0   1   1  -1   1   1  -1\n",
       " 2359  0   1   1  -1   1   1  -1\n",
       "  128  0  -1   1   1  -1   1   1\n",
       " 2229  0  -1  -1   1  -1  -1   1\n",
       "  206  0  -1   1  -1  -1   1  -1\n",
       "  145  0   1  -1  -1   1  -1  -1"
      ]
     },
     "execution_count": 15,
     "metadata": {},
     "output_type": "execute_result"
    }
   ],
   "source": [
    "dict_samples_sho[1]"
   ]
  },
  {
   "cell_type": "markdown",
   "metadata": {},
   "source": [
    "#### \"Try\" to learn the structure"
   ]
  },
  {
   "cell_type": "code",
   "execution_count": 11,
   "metadata": {},
   "outputs": [
    {
     "name": "stderr",
     "output_type": "stream",
     "text": [
      "\u001b[1m\u001b[36mINFO: \u001b[39m\u001b[22m\u001b[36musing Glauber dynamics v1 to generate M-regime samples\n",
      "\u001b[39m"
     ]
    },
    {
     "name": "stdout",
     "output_type": "stream",
     "text": [
      "done"
     ]
    }
   ],
   "source": [
    "# M-Regime Sampling\n",
    "n_samples = 20000\n",
    "samples_T, samples_mixed = gibbs_sampling(model, n_samples, M_regime())\n",
    "\n",
    "# Create a dictionary over samples_T\n",
    "dict_samples_sho = Dict{Int, Array{Int64, 2}}()\n",
    "num_spins = 3\n",
    "\n",
    "# Node number is the key of the dictionary\n",
    "# Should include those which are flips and those which are not\n",
    "# For the cases where there are flips, we know node i is being updated because this is single-site dynamics and we see a change\n",
    "# Where there are no flips, we don't know which node is being updated so include all possibilities \n",
    "\n",
    "# For each dict[key], array should be of form (n_samples, FLAG_flip, \\sigma^{(t)}, \\sigma^{(t+1)})\n",
    "\n",
    "# First get all those samples where there is no flip\n",
    "ind_samples_T_no_flip = []\n",
    "ind_samples_T_flip = []\n",
    "\n",
    "for ind_config = 1:size(samples_T,1)\n",
    "    if dot(samples_T[ind_config,3:(2+num_spins)],samples_T[ind_config,(3+num_spins):end]) == num_spins\n",
    "        push!(ind_samples_T_no_flip,ind_config)\n",
    "    else\n",
    "        push!(ind_samples_T_flip,ind_config)\n",
    "    end\n",
    "end\n",
    "\n",
    "samples_T_flip = samples_T[ind_samples_T_flip,:]\n",
    "samples_T_no_flip = samples_T[ind_samples_T_no_flip,:]\n",
    "\n",
    "samples_T_no_flip[:,2] = 0\n",
    "# Now create the dictionary\n",
    "for current_spin = 1:num_spins\n",
    "    samples_current_spin = samples_T_flip[find(isequal(current_spin),samples_T_flip[:,2]),:]\n",
    "    samples_current_spin[:,2] = 1\n",
    "    dict_samples_sho[current_spin] = vcat(samples_current_spin,samples_T_no_flip)\n",
    "end\n",
    "print(\"done\")"
   ]
  },
  {
   "cell_type": "code",
   "execution_count": 13,
   "metadata": {},
   "outputs": [
    {
     "name": "stderr",
     "output_type": "stream",
     "text": [
      "\u001b[1m\u001b[36mINFO: \u001b[39m\u001b[22m\u001b[36musing JuMP for RISE to learn Glauber dynamics from SHO samples\n",
      "\u001b[39m"
     ]
    },
    {
     "data": {
      "text/plain": [
       "3×3 Array{Float64,2}:\n",
       " -0.0467434  0.902008   0.054602 \n",
       "  0.902008   0.0375095  0.102806 \n",
       "  0.054602   0.102806   0.0151503"
      ]
     },
     "execution_count": 13,
     "metadata": {},
     "output_type": "execute_result"
    }
   ],
   "source": [
    "learned_gm = learn_glauber_dynamics_sho(dict_samples_sho, n_samples)"
   ]
  },
  {
   "cell_type": "code",
   "execution_count": 9,
   "metadata": {},
   "outputs": [
    {
     "data": {
      "text/plain": [
       "3×3 Array{Float64,2}:\n",
       " 0.0  0.9  0.1\n",
       " 0.9  0.0  0.1\n",
       " 0.1  0.1  0.0"
      ]
     },
     "execution_count": 9,
     "metadata": {},
     "output_type": "execute_result"
    }
   ],
   "source": [
    "true_gm = [0.0 0.9 0.1; 0.9 0.0 0.1; 0.1 0.1 0.0]"
   ]
  },
  {
   "cell_type": "code",
   "execution_count": 12,
   "metadata": {},
   "outputs": [
    {
     "name": "stderr",
     "output_type": "stream",
     "text": [
      "\u001b[1m\u001b[36mINFO: \u001b[39m\u001b[22m\u001b[36musing JuMP for RISE to learn Glauber dynamics\n",
      "\u001b[39m"
     ]
    },
    {
     "data": {
      "text/plain": [
       "3×3 Array{Float64,2}:\n",
       " -0.0255645  0.891516    0.0793898 \n",
       "  0.891516   0.0101021   0.0987405 \n",
       "  0.0793898  0.0987405  -0.00179326"
      ]
     },
     "execution_count": 12,
     "metadata": {},
     "output_type": "execute_result"
    }
   ],
   "source": [
    "learned_gm = learn_glauber_dynamics(samples_T)"
   ]
  },
  {
   "cell_type": "markdown",
   "metadata": {},
   "source": [
    "#### More complicated case"
   ]
  },
  {
   "cell_type": "code",
   "execution_count": null,
   "metadata": {},
   "outputs": [],
   "source": []
  }
 ],
 "metadata": {
  "kernelspec": {
   "display_name": "Julia 0.6.2",
   "language": "julia",
   "name": "julia-0.6"
  },
  "language_info": {
   "file_extension": ".jl",
   "mimetype": "application/julia",
   "name": "julia",
   "version": "0.6.2"
  }
 },
 "nbformat": 4,
 "nbformat_minor": 2
}
