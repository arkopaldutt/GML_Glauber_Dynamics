{
 "cells": [
  {
   "cell_type": "code",
   "execution_count": 1,
   "metadata": {
    "scrolled": true
   },
   "outputs": [
    {
     "data": {
      "text/plain": [
       "4-element Array{String,1}:\n",
       " \"@\"      \n",
       " \"@v#.#\"  \n",
       " \"@stdlib\"\n",
       " \"../src/\""
      ]
     },
     "execution_count": 1,
     "metadata": {},
     "output_type": "execute_result"
    }
   ],
   "source": [
    "# Add locations of modules\n",
    "push!(LOAD_PATH, \"../src/\")"
   ]
  },
  {
   "cell_type": "markdown",
   "metadata": {},
   "source": [
    "### First test"
   ]
  },
  {
   "cell_type": "code",
   "execution_count": 2,
   "metadata": {},
   "outputs": [
    {
     "ename": "UndefVarError",
     "evalue": "UndefVarError: reload not defined",
     "output_type": "error",
     "traceback": [
      "UndefVarError: reload not defined",
      "",
      "Stacktrace:",
      " [1] top-level scope at In[2]:1"
     ]
    }
   ],
   "source": [
    "reload(\"models\")\n",
    "reload(\"GraphicalModelLearning\")"
   ]
  },
  {
   "cell_type": "code",
   "execution_count": 8,
   "metadata": {},
   "outputs": [
    {
     "name": "stderr",
     "output_type": "stream",
     "text": [
      "\u001b[1m\u001b[36mINFO: \u001b[39m\u001b[22m\u001b[36massuming spin alphabet\n",
      "\u001b[39m"
     ]
    },
    {
     "name": "stdout",
     "output_type": "stream",
     "text": [
      "current spin = 1[-1 1 1; -1 1 -1; 1 1 1; -1 -1 1; 1 1 -1; 1 -1 1; -1 -1 -1; 1 -1 -1]\n",
      "current spin = 2[1 -1 1; 1 -1 -1; 1 1 1; -1 1 -1; 1 1 -1; -1 -1 -1; -1 1 1; -1 -1 1]\n",
      "current spin = 3[1 1 -1; -1 -1 1; 1 1 1; 1 -1 -1; -1 -1 -1; 1 -1 1; -1 1 1; -1 1 -1]\n"
     ]
    },
    {
     "data": {
      "text/plain": [
       "3×3 Array{Float64,2}:\n",
       " 0.00110424   0.000723612  0.00151818 \n",
       " 0.000723612  0.00194546   0.00321585 \n",
       " 0.00151818   0.00321585   0.000493112"
      ]
     },
     "execution_count": 8,
     "metadata": {},
     "output_type": "execute_result"
    }
   ],
   "source": [
    "using GraphicalModelLearning\n",
    "\n",
    "srand(0)\n",
    "model = FactorGraph([0.0 0.1 0.2; 0.1 0.0 0.3; 0.2 0.3 0.0])\n",
    "samples = sample(model, 100000)\n",
    "(num_conf, num_row) = size(samples)\n",
    "learned = learn(samples)\n",
    "\n",
    "err = abs.(convert(Array{Float64,2}, model) - learned)"
   ]
  },
  {
   "cell_type": "code",
   "execution_count": 17,
   "metadata": {},
   "outputs": [
    {
     "data": {
      "text/plain": [
       "alphabet: spin\n",
       "vars: 3\n",
       "terms: 3\n"
      ]
     },
     "execution_count": 17,
     "metadata": {},
     "output_type": "execute_result"
    },
    {
     "name": "stdout",
     "output_type": "stream",
     "text": [
      "  (1, 2) => 0.1\n",
      "  (1, 3) => 0.2\n",
      "  (2, 3) => 0.3\n"
     ]
    }
   ],
   "source": [
    "model"
   ]
  },
  {
   "cell_type": "code",
   "execution_count": 14,
   "metadata": {},
   "outputs": [
    {
     "data": {
      "text/plain": [
       "3×3 Array{Float64,2}:\n",
       " -0.002418   0.0998013   0.200079   \n",
       "  0.0998013  0.00384076  0.2966     \n",
       "  0.200079   0.2966      0.000312511"
      ]
     },
     "execution_count": 14,
     "metadata": {},
     "output_type": "execute_result"
    }
   ],
   "source": [
    "learned"
   ]
  },
  {
   "cell_type": "code",
   "execution_count": 3,
   "metadata": {},
   "outputs": [
    {
     "data": {
      "text/plain": [
       "8×4 Array{Int64,2}:\n",
       " 21267  -1  -1  -1\n",
       "  7710  -1  -1   1\n",
       " 20846   1   1   1\n",
       "  9552  -1   1  -1\n",
       "  7741   1   1  -1\n",
       "  9606   1  -1   1\n",
       " 11678  -1   1   1\n",
       " 11600   1  -1  -1"
      ]
     },
     "execution_count": 3,
     "metadata": {},
     "output_type": "execute_result"
    }
   ],
   "source": [
    "samples"
   ]
  },
  {
   "cell_type": "code",
   "execution_count": 13,
   "metadata": {},
   "outputs": [
    {
     "data": {
      "text/plain": [
       "8×3 Array{Int64,2}:\n",
       " -1   1   1\n",
       " -1   1  -1\n",
       "  1   1   1\n",
       " -1  -1   1\n",
       "  1   1  -1\n",
       "  1  -1   1\n",
       " -1  -1  -1\n",
       "  1  -1  -1"
      ]
     },
     "execution_count": 13,
     "metadata": {},
     "output_type": "execute_result"
    }
   ],
   "source": [
    "current_spin = 1\n",
    "num_conf = size(samples,1)\n",
    "num_spins = size(samples,2) - 1\n",
    "nodal_stat  = [ samples[k, 1 + current_spin] * (i == current_spin ? 1 : samples[k, 1 + i]) for k=1:num_conf , i=1:num_spins]"
   ]
  },
  {
   "cell_type": "code",
   "execution_count": 7,
   "metadata": {},
   "outputs": [
    {
     "data": {
      "text/plain": [
       "3-element Array{Int64,1}:\n",
       " 1\n",
       " 1\n",
       " 1"
      ]
     },
     "execution_count": 7,
     "metadata": {},
     "output_type": "execute_result"
    }
   ],
   "source": [
    "x = [1,1,1]"
   ]
  },
  {
   "cell_type": "code",
   "execution_count": 14,
   "metadata": {},
   "outputs": [
    {
     "data": {
      "text/plain": [
       "-1"
      ]
     },
     "execution_count": 14,
     "metadata": {},
     "output_type": "execute_result"
    }
   ],
   "source": [
    "k = 1\n",
    "-sum(x[i]*nodal_stat[k,i] for i=1:num_spins)"
   ]
  },
  {
   "cell_type": "markdown",
   "metadata": {},
   "source": [
    "#### Visualize the learned and true graphical models"
   ]
  },
  {
   "cell_type": "markdown",
   "metadata": {},
   "source": [
    "### Different Test Cases\n",
    "1. First Test Case\n",
    "2. Other examples in the paper\n",
    "3. High values of $\\theta_{ij}$\n",
    "4. Correlated data"
   ]
  },
  {
   "cell_type": "code",
   "execution_count": null,
   "metadata": {},
   "outputs": [],
   "source": []
  }
 ],
 "metadata": {
  "kernelspec": {
   "display_name": "Julia 1.0.5",
   "language": "julia",
   "name": "julia-1.0"
  },
  "language_info": {
   "file_extension": ".jl",
   "mimetype": "application/julia",
   "name": "julia",
   "version": "1.0.5"
  }
 },
 "nbformat": 4,
 "nbformat_minor": 2
}
